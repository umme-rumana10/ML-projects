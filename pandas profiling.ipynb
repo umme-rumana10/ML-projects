{
 "cells": [
  {
   "cell_type": "code",
   "execution_count": 2,
   "id": "79819620-5fc1-4597-99b1-044e58ab3245",
   "metadata": {},
   "outputs": [],
   "source": [
    "import pandas as pd\n",
    "import requests\n",
    "from bs4 import BeautifulSoup"
   ]
  },
  {
   "cell_type": "code",
   "execution_count": null,
   "id": "dfd93568-10ba-4385-96f5-635411eec2a6",
   "metadata": {},
   "outputs": [
    {
     "name": "stdout",
     "output_type": "stream",
     "text": [
      "The request timed out. Try again later or increase the timeout.\n"
     ]
    }
   ],
   "source": [
    "# extracting data using website api's\n",
    "import requests\n",
    "\n",
    "headers = {\n",
    "    'User-Agent': 'Mozilla/5.0 (Windows NT 6.3; Win64; x64) AppleWebKit/537.36 (KHTML, like Gecko) Chrome/80.0.3987.162 Safari/537.36'\n",
    "}\n",
    "\n",
    "try:\n",
    "    response = requests.get(\n",
    "        \"https://www.ambitionbox.com/list-of-companies\",\n",
    "        headers=headers,\n",
    "        timeout=30  # wait max 10 seconds\n",
    "    )\n",
    "    print(response.text)\n",
    "except requests.exceptions.Timeout:\n",
    "    print(\"The request timed out. Try again later or increase the timeout.\")\n",
    "except requests.exceptions.RequestException as e:\n",
    "    print(f\"An error occurred: {e}\")\n"
   ]
  },
  {
   "cell_type": "code",
   "execution_count": null,
   "id": "a29f0412",
   "metadata": {},
   "outputs": [
    {
     "name": "stderr",
     "output_type": "stream",
     "text": [
      "100%|██████████| 9/9 [00:00<?, ?it/s]/14 [00:00<00:00, 37.28it/s, Describe variable: Outcome]\n",
      "Summarize dataset: 100%|██████████| 82/82 [00:07<00:00, 11.55it/s, Completed]                                                 \n",
      "Generate report structure: 100%|██████████| 1/1 [00:04<00:00,  4.22s/it]\n",
      "Render HTML: 100%|██████████| 1/1 [00:05<00:00,  5.33s/it]\n",
      "Export report to file: 100%|██████████| 1/1 [00:00<00:00, 11.96it/s]\n"
     ]
    }
   ],
   "source": [
    "# pandas profiling for EDA analysis\n",
    "import pandas as pd\n",
    "from pandas_profiling import ProfileReport\n",
    "df=pd.read_csv(r\"C:\\Users\\Umme Rumana\\OneDrive\\Documents\\heart.csv\")\n",
    "prof=ProfileReport(df)\n",
    "prof.to_file(output_file='outpu.html')"
   ]
  },
  {
   "cell_type": "code",
   "execution_count": null,
   "id": "bfbd2699",
   "metadata": {},
   "outputs": [],
   "source": []
  }
 ],
 "metadata": {
  "kernelspec": {
   "display_name": "Python 3",
   "language": "python",
   "name": "python3"
  },
  "language_info": {
   "codemirror_mode": {
    "name": "ipython",
    "version": 3
   },
   "file_extension": ".py",
   "mimetype": "text/x-python",
   "name": "python",
   "nbconvert_exporter": "python",
   "pygments_lexer": "ipython3",
   "version": "3.11.9"
  }
 },
 "nbformat": 4,
 "nbformat_minor": 5
}
